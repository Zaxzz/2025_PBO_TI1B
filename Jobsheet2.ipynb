{
  "nbformat": 4,
  "nbformat_minor": 0,
  "metadata": {
    "colab": {
      "provenance": [],
      "authorship_tag": "ABX9TyNZQJ9Lbx3SLWXBZ1kmb2yT",
      "include_colab_link": true
    },
    "kernelspec": {
      "name": "python3",
      "display_name": "Python 3"
    },
    "language_info": {
      "name": "python"
    }
  },
  "cells": [
    {
      "cell_type": "markdown",
      "metadata": {
        "id": "view-in-github",
        "colab_type": "text"
      },
      "source": [
        "<a href=\"https://colab.research.google.com/github/Zaxzz/2025_PBO_TI1B/blob/main/Jobsheet2.ipynb\" target=\"_parent\"><img src=\"https://colab.research.google.com/assets/colab-badge.svg\" alt=\"Open In Colab\"/></a>"
      ]
    },
    {
      "cell_type": "markdown",
      "source": [
        "# JOBSHEET 02:"
      ],
      "metadata": {
        "id": "ftfMWuPWroz-"
      }
    },
    {
      "cell_type": "markdown",
      "source": [
        "# DASAR KELAS DAN FUNGSI PADA BAHASA PEMROGRAMAN PYTHON"
      ],
      "metadata": {
        "id": "nEIut6UirpSt"
      }
    },
    {
      "cell_type": "markdown",
      "source": [
        "## Praktikum 1: Membuat dan Menggunakan Fungsi"
      ],
      "metadata": {
        "id": "d1PMjlbYry2L"
      }
    },
    {
      "cell_type": "code",
      "source": [
        "# fungsi built-in\n",
        "# fungsi print() adalah contoh fungsi built-in untuk mencetak output\n",
        "print(\"ini adalah contoh fungsi built-in\")\n",
        "\n",
        "# fungsi len() adalah contoh fungsi built-in untuk menghitung panjang\n",
        "# suatu objek\n",
        "kata = \"pemrograman\"\n",
        "panjang_kata = len(kata)\n",
        "print(f\"panjang kata '{kata}' adalah: {panjang_kata}\")\n",
        "\n",
        "# fungsi max() adalah contoh fungsi built-in untuk mencari nilai maksimum\n",
        "# dari sebuah daftar\n",
        "angka = [10, 5, 30, 40, 25]\n",
        "nilai_max = max(angka)\n",
        "print(f\"nilai maksimum dalam daftar {angka} adalah: {nilai_max}\")\n",
        "\n",
        "# fungsi user-defined\n",
        "# fungsi dengan satu parameter (menerima satu nilai input)\n",
        "def cetak_kuadrat(angka):\n",
        "    # menghitung kuadrat dari angka yang diterima sebagai parameter\n",
        "    print(f\"kuadrat dari {angka} adalah: {angka ** 2}\")\n",
        "\n",
        "# fungsi dengan beberapa parameter (menerima lebih dari satu nilai input)\n",
        "def hitung_luas_persegi_panjang(panjang, lebar):\n",
        "    # menghitung luas persegi panjang\n",
        "    return panjang * lebar\n",
        "\n",
        "# fungsi dengan beberapa tipe parameter (menerima berbagai jenis data)\n",
        "def info_mahasiswa(nama, umur, ipk):\n",
        "    # mencetak informasi mahasiswa\n",
        "    print(f\"nama: {nama}, umur: {umur}, ipk: {ipk}\")\n",
        "\n",
        "# fungsi tanpa return value (non-return value)\n",
        "def sapa_pengguna(nama):\n",
        "    # fungsi ini hanya mencetak sapaan tanpa mengembalikan nilai\n",
        "    print(f\"halo, {nama}! selamat datang di dunia python.\")\n",
        "\n",
        "# fungsi dengan return value\n",
        "def hitung_keliling_persegi(sisi):\n",
        "    # mengembalikan keliling persegi\n",
        "    return 4 * sisi\n",
        "\n",
        "# pemanggilan fungsi dengan satu parameter\n",
        "cetak_kuadrat(5)\n",
        "\n",
        "# pemanggilan fungsi dengan beberapa parameter\n",
        "luas = hitung_luas_persegi_panjang(10, 5)\n",
        "print(f\"luas persegi panjang: {luas}\")\n",
        "\n",
        "# pemanggilan fungsi dengan beberapa tipe parameter\n",
        "info_mahasiswa(\"budi\", 22, 3.8)\n",
        "\n",
        "# pemanggilan fungsi tanpa return value\n",
        "sapa_pengguna(\"andi\")\n",
        "\n",
        "# pemanggilan fungsi dengan return value\n",
        "keliling = hitung_keliling_persegi(5)\n",
        "print(f\"keliling persegi dengan sisi 5 adalah: {keliling}\")\n"
      ],
      "metadata": {
        "colab": {
          "base_uri": "https://localhost:8080/"
        },
        "id": "zSD18oonr8zI",
        "outputId": "9313983d-2e94-4daa-b53e-7f8b9e719fa6"
      },
      "execution_count": 3,
      "outputs": [
        {
          "output_type": "stream",
          "name": "stdout",
          "text": [
            "ini adalah contoh fungsi built-in\n",
            "panjang kata 'pemrograman' adalah: 11\n",
            "nilai maksimum dalam daftar [10, 5, 30, 40, 25] adalah: 40\n",
            "kuadrat dari 5 adalah: 25\n",
            "luas persegi panjang: 50\n",
            "nama: budi, umur: 22, ipk: 3.8\n",
            "halo, andi! selamat datang di dunia python.\n",
            "keliling persegi dengan sisi 5 adalah: 20\n"
          ]
        }
      ]
    },
    {
      "cell_type": "markdown",
      "source": [
        "# Praktikum 2: Modularisasi Kode dengan Fungsi"
      ],
      "metadata": {
        "id": "CO0Vew2DtJEr"
      }
    },
    {
      "cell_type": "code",
      "source": [],
      "metadata": {
        "id": "UHZYuPhetL_B"
      },
      "execution_count": null,
      "outputs": []
    }
  ]
}