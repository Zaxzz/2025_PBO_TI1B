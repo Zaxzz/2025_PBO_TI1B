{
  "nbformat": 4,
  "nbformat_minor": 0,
  "metadata": {
    "colab": {
      "provenance": [],
      "authorship_tag": "ABX9TyNC0eKFfXCR6rbmNmcVpLHU",
      "include_colab_link": true
    },
    "kernelspec": {
      "name": "python3",
      "display_name": "Python 3"
    },
    "language_info": {
      "name": "python"
    }
  },
  "cells": [
    {
      "cell_type": "markdown",
      "metadata": {
        "id": "view-in-github",
        "colab_type": "text"
      },
      "source": [
        "<a href=\"https://colab.research.google.com/github/Zaxzz/2025_PBO_TI1B/blob/main/Jobsheet5.ipynb\" target=\"_parent\"><img src=\"https://colab.research.google.com/assets/colab-badge.svg\" alt=\"Open In Colab\"/></a>"
      ]
    },
    {
      "cell_type": "code",
      "execution_count": 8,
      "metadata": {
        "colab": {
          "base_uri": "https://localhost:8080/"
        },
        "id": "0_TgJGqEkCFk",
        "outputId": "2e2181a4-c859-4836-ef39-c2fb20397ef3"
      },
      "outputs": [
        {
          "output_type": "stream",
          "name": "stdout",
          "text": [
            "\n",
            "Aksi Burung:\n",
            "--aksi untuk Elang Jawa--\n",
            "Elang Jawa terbang tinggi melayang di angkasa\n",
            "Elang Jawaberteriak nyaring\n",
            "---------------\n",
            "--aksi untuk Pipit gereja--\n",
            "Pipit gereja terbang cepat di antara pepohonan\n",
            "Pipit gereja berkicau merdu: cit cit\n",
            "---------------\n",
            "--aksi untuk Burung misterius--\n",
            "Burung misterius terbang dengan cara umum.\n",
            "Burung misterius mengeluarkan dengan suara burung.\n",
            "---------------\n"
          ]
        }
      ],
      "source": [
        "class Burung:\n",
        "  def __init__(self, nama):\n",
        "    self.nama = nama\n",
        "  def terbang(self):\n",
        "    print(f\"{self.nama} terbang dengan cara umum.\")\n",
        "  def bersuara(self):\n",
        "    print(f\"{self.nama} mengeluarkan dengan suara burung.\")\n",
        "\n",
        "class Elang(Burung):\n",
        "  def __init__(self, nama, rentang_sayap):\n",
        "    super().__init__(nama)\n",
        "    self.rentang_sayap = rentang_sayap\n",
        "\n",
        "  def terbang(self):\n",
        "    print(f\"{self.nama} terbang tinggi melayang di angkasa\")\n",
        "  def bersuara(self):\n",
        "    print(f\"{self.nama}berteriak nyaring\")\n",
        "\n",
        "class Pipit(Burung):\n",
        "  def __init__(self, nama, warna_bulu):\n",
        "    super().__init__(nama)\n",
        "    self.warna_bulu = warna_bulu\n",
        "  def terbang(self):\n",
        "    print(f\"{self.nama} terbang cepat di antara pepohonan\")\n",
        "  def bersuara(self):\n",
        "    print(f\"{self.nama} berkicau merdu: cit cit\")\n",
        "\n",
        "def demonstrasi_aksi_burung(daftar_burung):\n",
        "  print(\"\\nAksi Burung:\")\n",
        "  for burung in daftar_burung:\n",
        "    print(f\"--aksi untuk {burung.nama}--\")\n",
        "    burung.terbang()\n",
        "    burung.bersuara()\n",
        "    print(\"-\"*15)\n",
        "\n",
        "if __name__ == \"__main__\":\n",
        "  elang_jawa = Elang(\"Elang Jawa\", 1.5)\n",
        "  pipit_gereja = Pipit(\"Pipit gereja\", \"coklat\")\n",
        "  burung_aneh = Burung(\"Burung misterius\")\n",
        "  koleksi_burung = [elang_jawa, pipit_gereja, burung_aneh]\n",
        "\n",
        "  demonstrasi_aksi_burung(koleksi_burung)"
      ]
    },
    {
      "cell_type": "code",
      "source": [
        "class Kucing:\n",
        "  def bersuara(self):\n",
        "    print(\"Kucing: Meow!\")\n",
        "\n",
        "class Anjing:\n",
        "  def bersuara(self):\n",
        "    print(\"Anjing: guk guk!\")\n",
        "\n",
        "class Bebek:\n",
        "  def bersuara(self):\n",
        "    print(\"Bebek: kwek kwek!\")\n",
        "\n",
        "class Mobil:\n",
        "  def jalankan(self):\n",
        "    print(\"Mobil: Brummm!\")\n",
        "\n",
        "def buat_suara(objek_yang_bisa_bersuara):\n",
        "  try:\n",
        "    objek_yang_bisa_bersuara.bersuara()\n",
        "  except AttributeError:\n",
        "    print(f\"objek {type(objek_yang_bisa_bersuara).__name__} tidak bisa bersuara.\")\n",
        "\n",
        "if __name__ == \"__main__\":\n",
        "  kucing1 = Kucing()\n",
        "  anjing1 = Anjing()\n",
        "  bebek1 = Bebek()\n",
        "  mobil1 = Mobil()\n",
        "\n",
        "  daftar_objek = [kucing1, anjing1, bebek1, mobil1]\n",
        "  print(\"demonstrasi Duck Typing\")\n",
        "  for item in daftar_objek:\n",
        "    buat_suara(item)"
      ],
      "metadata": {
        "colab": {
          "base_uri": "https://localhost:8080/"
        },
        "id": "EGBZ4u4SmExZ",
        "outputId": "3f3310b9-8dad-4591-dd14-b129bbff8283"
      },
      "execution_count": 10,
      "outputs": [
        {
          "output_type": "stream",
          "name": "stdout",
          "text": [
            "demonstrasi Duck Typing\n",
            "Kucing: Meow!\n",
            "Anjing: guk guk!\n",
            "Bebek: kwek kwek!\n",
            "objek Mobil tidak bisa bersuara.\n"
          ]
        }
      ]
    },
    {
      "cell_type": "code",
      "source": [
        "class KalkulatorSederhana:\n",
        "  def __init__(self, nama=\"Kalkulator\"):\n",
        "    self.nama = nama\n",
        "    print(f\"{self.nama} siap digunakan.\")\n",
        "\n",
        "  def tambah(self, *args):\n",
        "    print(f\"\\nmemanggil metode tambah dengan argumen: {args}\")\n",
        "    if not args:\n",
        "      print(\"tidak ada angka untuuk dijumlahkan\")\n",
        "      return 0\n",
        "\n",
        "    total = 0\n",
        "    valid_input = True\n",
        "    for angka in args:\n",
        "      if isinstance(angka, (int,float)):\n",
        "        total += angka\n",
        "      else:\n",
        "        print(f\"peringatan: argumen'{angka}bukan angka dan akan diabaikan\")\n",
        "\n",
        "    if valid_input:\n",
        "      print(f\"Hasil penjumlahan: {total}\")\n",
        "    else:\n",
        "      print(f\"hasil penjumlahan (dengan beberapa input diabaikan): {total}\")\n",
        "    return total\n",
        "\n",
        "if __name__ == \"__main__\":\n",
        "    calc = KalkulatorSederhana(\"calc-01\")\n",
        "    print(\"\\n --- percobaan penjumlahan ---\")\n",
        "    calc.tambah(5,10)\n",
        "    calc.tambah(2,3,5,10)\n",
        "    calc.tambah(100)\n",
        "    calc.tambah()\n",
        "    calc.tambah(1,2,\"tiga\",4,5.5)\n",
        "\n"
      ],
      "metadata": {
        "colab": {
          "base_uri": "https://localhost:8080/"
        },
        "id": "PvSJZfZeqaFN",
        "outputId": "eb218797-e025-4690-cd9b-c202f88e037e"
      },
      "execution_count": 13,
      "outputs": [
        {
          "output_type": "stream",
          "name": "stdout",
          "text": [
            "calc-01 siap digunakan.\n",
            "\n",
            " --- percobaan penjumlahan ---\n",
            "\n",
            "memanggil metode tambah dengan argumen: (5, 10)\n",
            "Hasil penjumlahan: 15\n",
            "\n",
            "memanggil metode tambah dengan argumen: (2, 3, 5, 10)\n",
            "Hasil penjumlahan: 20\n",
            "\n",
            "memanggil metode tambah dengan argumen: (100,)\n",
            "Hasil penjumlahan: 100\n",
            "\n",
            "memanggil metode tambah dengan argumen: ()\n",
            "tidak ada angka untuuk dijumlahkan\n",
            "\n",
            "memanggil metode tambah dengan argumen: (1, 2, 'tiga', 4, 5.5)\n",
            "peringatan: argumen'tigabukan angka dan akan diabaikan\n",
            "Hasil penjumlahan: 12.5\n"
          ]
        }
      ]
    },
    {
      "cell_type": "code",
      "source": [
        "class DataProcessor:\n",
        "  def __init__(self, processor_id):\n",
        "    self.processor_id = processor_id\n",
        "    print(f\"data processor {self.processor_id} siap.\")\n",
        "\n",
        "  def process(self, *args, **kwargs):\n",
        "    print(f\"\\n-- {self.processor_id} memproses data --\")\n",
        "\n",
        "    if args:\n",
        "      print(\"Argumen posisi diterima:\")\n",
        "      for i, arg in enumerate(args):\n",
        "        print(f\" args[{i}]: {arg} (tipe: {type(arg).__name__}\")\n",
        "    else:\n",
        "      print(\"tidak ada argumen posisi\")\n",
        "\n",
        "    if kwargs:\n",
        "      print(\"argumen kata kunci diterima:\")\n",
        "      for kunci, nilai in kwargs.items():\n",
        "        print(f\"{kunci}: {nilai} (tipe: {type(nilai).__name__}\")\n",
        "    else:\n",
        "      print(\"tidak ada argumen kata kunci\")\n",
        "    print(\"-------------------------------\")\n",
        "\n",
        "if __name__ == \"__main__\":\n",
        "  processor1 = DataProcessor(\"DP-001\")\n",
        "  print(\"\\npanggilan 1: tanpa argumen tambahan\")\n",
        "  processor1.process()\n",
        "  print(\"\\npanggilan 2: hanya argumen posisi\")\n",
        "  processor1.process(100, \"status ok\", 99.9, False)\n",
        "  print(\"\\npanggilan 3: hanya argumen kata kunci\")\n",
        "  processor1.process(user=\"admin\", level=5, mode=\"verbose\")\n",
        "  print(\"\\npanggilan 4: kombinasi argumen posisi dan kata kunci\")\n",
        "  processor1.process(\"Task-1\", \"Task-B\", status=\"running\", priority=\"high\", thread_id=\"54321\")\n",
        "  print(\"\\npanggilan 5: argumen posisi kompleks\")\n",
        "  list_ids = [\"A1\", \"B2\",\"C3\"]\n",
        "  dict_params = {\"timeout\":30, \"retry\": 3}\n",
        "  processor1.process(list_ids, dict_params, owner=\"system\", enabled=True)"
      ],
      "metadata": {
        "colab": {
          "base_uri": "https://localhost:8080/"
        },
        "id": "5OnPDJ9FtQnk",
        "outputId": "a6c5c7f9-3d60-462b-b206-4d6057d3ab12"
      },
      "execution_count": 14,
      "outputs": [
        {
          "output_type": "stream",
          "name": "stdout",
          "text": [
            "data processor DP-001 siap.\n",
            "\n",
            "panggilan 1: tanpa argumen tambahan\n",
            "\n",
            "-- DP-001 memproses data --\n",
            "tidak ada argumen posisi\n",
            "tidak ada argumen kata kunci\n",
            "-------------------------------\n",
            "\n",
            "panggilan 2: hanya argumen posisi\n",
            "\n",
            "-- DP-001 memproses data --\n",
            "Argumen posisi diterima:\n",
            " args[0]: 100 (tipe: int\n",
            " args[1]: status ok (tipe: str\n",
            " args[2]: 99.9 (tipe: float\n",
            " args[3]: False (tipe: bool\n",
            "tidak ada argumen kata kunci\n",
            "-------------------------------\n",
            "\n",
            "panggilan 3: hanya argumen kata kunci\n",
            "\n",
            "-- DP-001 memproses data --\n",
            "tidak ada argumen posisi\n",
            "argumen kata kunci diterima:\n",
            "user: admin (tipe: str\n",
            "level: 5 (tipe: int\n",
            "mode: verbose (tipe: str\n",
            "-------------------------------\n",
            "\n",
            "panggilan 4: kombinasi argumen posisi dan kata kunci\n",
            "\n",
            "-- DP-001 memproses data --\n",
            "Argumen posisi diterima:\n",
            " args[0]: Task-1 (tipe: str\n",
            " args[1]: Task-B (tipe: str\n",
            "argumen kata kunci diterima:\n",
            "status: running (tipe: str\n",
            "priority: high (tipe: str\n",
            "thread_id: 54321 (tipe: str\n",
            "-------------------------------\n",
            "\n",
            "panggilan 5: argumen posisi kompleks\n",
            "\n",
            "-- DP-001 memproses data --\n",
            "Argumen posisi diterima:\n",
            " args[0]: ['A1', 'B2', 'C3'] (tipe: list\n",
            " args[1]: {'timeout': 30, 'retry': 3} (tipe: dict\n",
            "argumen kata kunci diterima:\n",
            "owner: system (tipe: str\n",
            "enabled: True (tipe: bool\n",
            "-------------------------------\n"
          ]
        }
      ]
    }
  ]
}