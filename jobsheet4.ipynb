{
  "nbformat": 4,
  "nbformat_minor": 0,
  "metadata": {
    "colab": {
      "provenance": [],
      "authorship_tag": "ABX9TyNl0XrfWJF86cs5tKThlWiF",
      "include_colab_link": true
    },
    "kernelspec": {
      "name": "python3",
      "display_name": "Python 3"
    },
    "language_info": {
      "name": "python"
    }
  },
  "cells": [
    {
      "cell_type": "markdown",
      "metadata": {
        "id": "view-in-github",
        "colab_type": "text"
      },
      "source": [
        "<a href=\"https://colab.research.google.com/github/Zaxzz/2025_PBO_TI1B/blob/main/jobsheet4.ipynb\" target=\"_parent\"><img src=\"https://colab.research.google.com/assets/colab-badge.svg\" alt=\"Open In Colab\"/></a>"
      ]
    },
    {
      "cell_type": "markdown",
      "source": [
        "# JOBSHEET 4"
      ],
      "metadata": {
        "id": "d0AAlsN7pR2n"
      }
    },
    {
      "cell_type": "markdown",
      "source": [
        "# MEMAHAMI PEWARISAN (INHERITANCE) DALAM PYTHON"
      ],
      "metadata": {
        "id": "KPeMrTQvpa2G"
      }
    },
    {
      "cell_type": "markdown",
      "source": [
        "## PRAKTIKUM 1 INHERITANCE DASAR"
      ],
      "metadata": {
        "id": "NUXc6IV6phXR"
      }
    },
    {
      "cell_type": "code",
      "source": [
        "class Kendaraan:\n",
        "  def __init__ (self, merk):\n",
        "      self.merk = merk\n",
        "  def mulai_mesin(self):\n",
        "      print(f'mesin kendaraan {self.merk} dinyalakan')\n",
        "\n",
        "class Mobil(Kendaraan):\n",
        "  def __init__ (self, merk, warna):\n",
        "      self.merk = merk\n",
        "      self.warna = warna\n",
        "  def info_mobil(self):\n",
        "      print(f'ini adalah mobil {self.merk} berwarna {self.warna}')\n",
        "\n",
        "if __name__ == \"__main__\":\n",
        "  mobil_tesla = Mobil(\"Tesla Model S\", \"Merah\")\n",
        "  mobil_tesla.info_mobil()\n",
        "  mobil_tesla.mulai_mesin()\n",
        "  print(f\"merk moblill: {mobil_tesla.merk}\")\n",
        "\n"
      ],
      "metadata": {
        "colab": {
          "base_uri": "https://localhost:8080/"
        },
        "id": "p4u2Z8papltI",
        "outputId": "4a3a541c-4fbe-4d96-9738-eb1adb80ce58"
      },
      "execution_count": 13,
      "outputs": [
        {
          "output_type": "stream",
          "name": "stdout",
          "text": [
            "ini adalah mobil Tesla Model S berwarna Merah\n",
            "mesin kendaraan Tesla Model S dinyalakan\n",
            "merk moblill: Tesla Model S\n"
          ]
        }
      ]
    },
    {
      "cell_type": "markdown",
      "source": [
        "## PRAKTIKUM 2 MENGGUNAKAN SUPER() DALAM KONSTRUKTOR"
      ],
      "metadata": {
        "id": "J8bu3OFAu14K"
      }
    },
    {
      "cell_type": "code",
      "source": [
        "class Person:\n",
        "  def __init__ (self, nama, usia):\n",
        "      print(f\"memanggil __init__ Person untuk '{nama}'\")\n",
        "      self.nama = nama\n",
        "      self.usia = usia\n",
        "\n",
        "  def perkenalkan_diri(self):\n",
        "      print(f\"halo nama saya {self.nama}, usia saya {self.usia} tahun\")\n",
        "\n",
        "class Student (Person):\n",
        "  def __init__ (self, nama, usia, student_id, jurusan):\n",
        "      print(f\"memanggil __init__ Student untuk '{nama}'\")\n",
        "      super().__init__(nama, usia)\n",
        "      self.student_id = student_id\n",
        "      self.jurusan = jurusan\n",
        "      print(f\"inisalisasi atribut student selesai untuk '{nama}'\")\n",
        "\n",
        "  def info_akademik(self):\n",
        "      print(f\"ID mahasiswa: {self.student_id}\")\n",
        "      print(f\"jurusan:{self.jurusan}\")\n",
        "\n",
        "  def perkenalkan_diri(self):\n",
        "      super().perkenalkan_diri()\n",
        "      print(f\"saya adalah mahasiswa ID {self.student_id}, jurusan {self.jurusan}\"),\n",
        "\n",
        "if __name__ == \"__main__\":\n",
        "  dosen = Person (\"Pak Anton\", 45)\n",
        "  print(\"-\" * 20)\n",
        "  dosen.perkenalkan_diri()\n",
        "  print(\"\\n\" + \"=\" * 30 + \"\\n\")\n",
        "\n",
        "  mahasiswa = Student(\"Dewi\", 20, \"MHS001\", \"Teknik Informatika\")\n",
        "  print(\"-\" * 20)\n",
        "  mahasiswa.perkenalkan_diri()\n",
        "  print(\"\\n\" + \"=\" * 30 + \"\\n\")\n",
        "  mahasiswa.info_akademik()\n",
        "\n",
        "  print(f\"\\nUsia mahasiswa {mahasiswa.nama}: {mahasiswa.usia}\")"
      ],
      "metadata": {
        "colab": {
          "base_uri": "https://localhost:8080/"
        },
        "id": "D1qiceFXu9Fl",
        "outputId": "d3ffa8c6-0ec6-4bb8-d434-3d5f64b615b0"
      },
      "execution_count": 18,
      "outputs": [
        {
          "output_type": "stream",
          "name": "stdout",
          "text": [
            "memanggil __init__ Person untuk 'Pak Anton'\n",
            "--------------------\n",
            "halo nama saya Pak Anton, usia saya 45 tahun\n",
            "\n",
            "==============================\n",
            "\n",
            "memanggil __init__ Student untuk 'Dewi'\n",
            "memanggil __init__ Person untuk 'Dewi'\n",
            "inisalisasi atribut student selesai untuk 'Dewi'\n",
            "--------------------\n",
            "halo nama saya Dewi, usia saya 20 tahun\n",
            "saya adalah mahasiswa ID MHS001, jurusan Teknik Informatika\n",
            "\n",
            "==============================\n",
            "\n",
            "ID mahasiswa: MHS001\n",
            "jurusan:Teknik Informatika\n",
            "\n",
            "Usia mahasiswa Dewi: 20\n"
          ]
        }
      ]
    },
    {
      "cell_type": "markdown",
      "source": [
        "## PRAKTIKUM 3 METHOD OVERRIDING DAN SUPER()"
      ],
      "metadata": {
        "id": "Y5_e7Oypz21w"
      }
    },
    {
      "cell_type": "code",
      "source": [
        "class Hewan:\n",
        "  def __init__ (self, nama):\n",
        "      self.nama = nama\n",
        "  def bersuara(self):\n",
        "      print(f\"{self.nama} mengeluarkan suara generikk\")\n",
        "  def tampilkan_info(self):\n",
        "      print(f\"ini adalah hewan {self.nama}\")\n",
        "\n",
        "class Kucing(Hewan):\n",
        "  def __init__ (self, nama, ras):\n",
        "      super().__init__(nama)\n",
        "      self.ras = ras\n",
        "  def bersuara(self):\n",
        "      print(f\"{self.nama} (kucing)bersuara meong!\")\n",
        "  def tampilkan_info(self):\n",
        "      super().tampilkan_info()\n",
        "      print(f\"ini adalah kucing ras {self.ras}\")\n",
        "\n",
        "if __name__ == \"__main__\":\n",
        "    hewan_umum = Hewan(\"Makhluk\")\n",
        "    kucing_persia = Kucing(\"Pupus\", \"Persia\")\n",
        "    print(\"info hewan umum:\")\n",
        "    hewan_umum.tampilkan_info()\n",
        "    hewan_umum.bersuara()\n",
        "    print(\"-\" * 20)\n",
        "\n",
        "    print(\"info kucing persia:\")\n",
        "    kucing_persia.tampilkan_info()\n",
        "    kucing_persia.bersuara()"
      ],
      "metadata": {
        "colab": {
          "base_uri": "https://localhost:8080/"
        },
        "id": "0nsZ0Hgkz77U",
        "outputId": "fa378f37-1bd3-433a-fab7-e4fa813a4b96"
      },
      "execution_count": 23,
      "outputs": [
        {
          "output_type": "stream",
          "name": "stdout",
          "text": [
            "info hewan umum:\n",
            "ini adalah hewan Makhluk\n",
            "Makhluk mengeluarkan suara generikk\n",
            "--------------------\n",
            "info kucing persia:\n",
            "ini adalah hewan Pupus\n",
            "ini adalah kucing ras Persia\n",
            "Pupus (kucing)bersuara meong!\n"
          ]
        }
      ]
    },
    {
      "cell_type": "markdown",
      "source": [
        "## PRAKTIKUM 4 MULTI LEVEL INHERITANCE"
      ],
      "metadata": {
        "id": "UsQT5kZM7EUZ"
      }
    },
    {
      "cell_type": "code",
      "source": [
        "class Organisme:\n",
        "  def __init__ (self, nama):\n",
        "      self.nama = nama\n",
        "      print(f\"Organisme '{self.nama}' diciptakan\")\n",
        "\n",
        "  def bernapas(self):\n",
        "      print(f\"{self.nama} sedang bernapas\")\n",
        "\n",
        "class Hewan (Organisme):\n",
        "  def __init__ (self, nama, jenis_makanan):\n",
        "      super().__init__(nama)\n",
        "      self.jenis_makanan = jenis_makanan\n",
        "      print(f\"Hewan '{self.nama}' adalah {self.jenis_makanan}\")\n",
        "  def bergerak(self):\n",
        "      print(f\"{self.nama} sedang bergerak\")\n",
        "\n",
        "class Mamalia(Hewan):\n",
        "  def __init__ (self, nama, jenis_makanan, jumlah_kaki):\n",
        "      super().__init__(nama, jenis_makanan)\n",
        "      self.jumlah_kaki = jumlah_kaki\n",
        "      print(f\"Mamalia '{self.nama}' memiliki {self.jumlah_kaki} kaki\")\n",
        "  def menyusui(self):\n",
        "      print(f\"{self.nama} sedang menyusui\")\n",
        "if __name__ == \"__main__\":\n",
        "  kucing = Mamalia(\"Kucing persia\", \"karnivora\", 4)\n",
        "  print(\"-\" * 20)\n",
        "  kucing.menyusui()\n",
        "  kucing.bergerak()\n",
        "  print(f\"jenis makanan: {kucing.jenis_makanan}\")\n",
        "  kucing.bernapas()\n",
        "  print(f\"nama organisme: {kucing.nama}\")"
      ],
      "metadata": {
        "colab": {
          "base_uri": "https://localhost:8080/"
        },
        "id": "PWE1CqaU7XCj",
        "outputId": "6dabb60b-f4d8-4c89-f5ff-7a9f5aa69728"
      },
      "execution_count": 26,
      "outputs": [
        {
          "output_type": "stream",
          "name": "stdout",
          "text": [
            "Organisme 'Kucing persia' diciptakan\n",
            "Hewan 'Kucing persia' adalah karnivora\n",
            "Mamalia 'Kucing persia' memiliki 4 kaki\n",
            "--------------------\n",
            "Kucing persia sedang menyusui\n",
            "Kucing persia sedang bergerak\n",
            "jenis makanan: karnivora\n",
            "Kucing persia sedang bernapas\n",
            "nama organisme: Kucing persia\n"
          ]
        }
      ]
    },
    {
      "cell_type": "markdown",
      "source": [
        "## PRAKTIKUM 5 HIERARCHICAL INHERITANCE"
      ],
      "metadata": {
        "id": "-Fr6vcez9fYF"
      }
    },
    {
      "cell_type": "code",
      "source": [
        "!apt-get install -y locales\n",
        "!locale-gen id_ID.UTF-8\n",
        "!update-locale"
      ],
      "metadata": {
        "colab": {
          "base_uri": "https://localhost:8080/"
        },
        "id": "fJJN_oYoB84N",
        "outputId": "2847396b-bcd7-47c9-a744-6859e52421e4"
      },
      "execution_count": 28,
      "outputs": [
        {
          "output_type": "stream",
          "name": "stdout",
          "text": [
            "Reading package lists... Done\n",
            "Building dependency tree... Done\n",
            "Reading state information... Done\n",
            "locales is already the newest version (2.35-0ubuntu3.9).\n",
            "0 upgraded, 0 newly installed, 0 to remove and 34 not upgraded.\n",
            "Generating locales (this might take a while)...\n",
            "  id_ID.UTF-8... done\n",
            "Generation complete.\n"
          ]
        }
      ]
    },
    {
      "cell_type": "code",
      "source": [
        "import locale\n",
        "\n",
        "try:\n",
        "    locale.setlocale(locale.LC_ALL,'id_ID.UTF-8')\n",
        "except locale.Error:\n",
        "      print(\"Locale id_ID.UTF-8 tidak tersedia, menggunakan locale default\")\n",
        "\n",
        "def format_rupiah(angka):\n",
        "    return locale.currency(angka, grouping=True, symbol='Rp')\n",
        "\n",
        "class Pegawai:\n",
        "  def __init__ (self, nama, id_pegawai, gaji_pokok):\n",
        "      self.nama = nama\n",
        "      self.id_pegawai = id_pegawai\n",
        "      self.gaji_pokok = gaji_pokok\n",
        "  def hitung_gaji(self):\n",
        "      return self.gaji_pokok\n",
        "  def tampilkan_info(self):\n",
        "      print(f\"ID Pegawai: {self.id_pegawai}, Nama: {self.nama}\")\n",
        "      print(f\"Gaji Pokok: {format_rupiah(self.gaji_pokok)}\")\n",
        "\n",
        "class Manager(Pegawai):\n",
        "  def __init__ (self, nama, id_pegawai, gaji_pokok, tunjangan_jabatan):\n",
        "      super().__init__(nama, id_pegawai, gaji_pokok)\n",
        "      self.tunjangan_jabatan = tunjangan_jabatan\n",
        "  def hitung_gaji(self):\n",
        "      gaji_total = super().hitung_gaji() + self.tunjangan_jabatan\n",
        "      return gaji_total\n",
        "  def tampilkan_info(self):\n",
        "      print(\"Info manager\")\n",
        "      super().tampilkan_info()\n",
        "      print(f\"Tunjangan Jabatan: {format_rupiah(self.hitung_gaji())}\")\n",
        "\n",
        "class StaffTeknik(Pegawai):\n",
        "  def __init__ (self, nama, id_pegawai, gaji_pokok, keahlian, bonus_keahlian):\n",
        "      super().__init__(nama, id_pegawai, gaji_pokok)\n",
        "      self.keahlian = keahlian\n",
        "      self.bonus_keahlian = bonus_keahlian\n",
        "  def hitung_gaji(self):\n",
        "      gaji_total = super().hitung_gaji() + self.bonus_keahlian\n",
        "      return gaji_total\n",
        "  def tampilkan_info(self):\n",
        "      print(\"Info Staff Teknik\")\n",
        "      super().tampilkan_info()\n",
        "      print(f\"Keahlian: {self.keahlian}\")\n",
        "      print(f\"Bonus Keahlian: {format_rupiah(self.bonus_keahlian)}\")\n",
        "      print(f\"Gaji Total: {format_rupiah(self.hitung_gaji())}\")\n",
        "\n",
        "if __name__ == \"__main__\":\n",
        "  manager1 = Manager(\"Budi Santoso\", \"M001\", 10000000, 5000000)\n",
        "  staf1 = StaffTeknik(\"Citra Lestari\", \"S001\", 7000000, \"Pemrograman Python\", 1500000)\n",
        "  pegawai_baru = Pegawai(\"Rian\", \"P005\", 5000000)\n",
        "  print(\"Menampilkan Informasi Pegawai:\")\n",
        "  manager1.tampilkan_info()\n",
        "  print(\"-\" * 30)\n",
        "  staf1.tampilkan_info\n",
        "  print(\"-\" * 30)\n",
        "\n",
        "  print(\"---INFO PEGAWAI BARU---\")\n",
        "  pegawai_baru.tampilkan_info()\n",
        "  print(f\"total gaji: {format_rupiah(pegawai_baru.hitung_gaji())}\")\n",
        "  print(\"-\" * 30)\n",
        "\n"
      ],
      "metadata": {
        "colab": {
          "base_uri": "https://localhost:8080/",
          "height": 425
        },
        "id": "vGhq_f759l19",
        "outputId": "44359078-68b8-42d0-f7f3-1766145a8e99"
      },
      "execution_count": 27,
      "outputs": [
        {
          "output_type": "stream",
          "name": "stdout",
          "text": [
            "Locale id_ID.UTF-8 tidak tersedia, menggunakan locale default\n",
            "Menampilkan Informasi Pegawai:\n",
            "Info manager\n",
            "ID Pegawai: M001, Nama: Budi Santoso\n"
          ]
        },
        {
          "output_type": "error",
          "ename": "ValueError",
          "evalue": "Currency formatting is not possible using the 'C' locale.",
          "traceback": [
            "\u001b[0;31m---------------------------------------------------------------------------\u001b[0m",
            "\u001b[0;31mValueError\u001b[0m                                Traceback (most recent call last)",
            "\u001b[0;32m<ipython-input-27-515471d62874>\u001b[0m in \u001b[0;36m<cell line: 0>\u001b[0;34m()\u001b[0m\n\u001b[1;32m     52\u001b[0m   \u001b[0mpegawai_baru\u001b[0m \u001b[0;34m=\u001b[0m \u001b[0mPegawai\u001b[0m\u001b[0;34m(\u001b[0m\u001b[0;34m\"Rian\"\u001b[0m\u001b[0;34m,\u001b[0m \u001b[0;34m\"P005\"\u001b[0m\u001b[0;34m,\u001b[0m \u001b[0;36m5000000\u001b[0m\u001b[0;34m)\u001b[0m\u001b[0;34m\u001b[0m\u001b[0;34m\u001b[0m\u001b[0m\n\u001b[1;32m     53\u001b[0m   \u001b[0mprint\u001b[0m\u001b[0;34m(\u001b[0m\u001b[0;34m\"Menampilkan Informasi Pegawai:\"\u001b[0m\u001b[0;34m)\u001b[0m\u001b[0;34m\u001b[0m\u001b[0;34m\u001b[0m\u001b[0m\n\u001b[0;32m---> 54\u001b[0;31m   \u001b[0mmanager1\u001b[0m\u001b[0;34m.\u001b[0m\u001b[0mtampilkan_info\u001b[0m\u001b[0;34m(\u001b[0m\u001b[0;34m)\u001b[0m\u001b[0;34m\u001b[0m\u001b[0;34m\u001b[0m\u001b[0m\n\u001b[0m\u001b[1;32m     55\u001b[0m   \u001b[0mprint\u001b[0m\u001b[0;34m(\u001b[0m\u001b[0;34m\"-\"\u001b[0m \u001b[0;34m*\u001b[0m \u001b[0;36m30\u001b[0m\u001b[0;34m)\u001b[0m\u001b[0;34m\u001b[0m\u001b[0;34m\u001b[0m\u001b[0m\n\u001b[1;32m     56\u001b[0m   \u001b[0mstaf1\u001b[0m\u001b[0;34m.\u001b[0m\u001b[0mtampilkan_info\u001b[0m\u001b[0;34m\u001b[0m\u001b[0;34m\u001b[0m\u001b[0m\n",
            "\u001b[0;32m<ipython-input-27-515471d62874>\u001b[0m in \u001b[0;36mtampilkan_info\u001b[0;34m(self)\u001b[0m\n\u001b[1;32m     29\u001b[0m   \u001b[0;32mdef\u001b[0m \u001b[0mtampilkan_info\u001b[0m\u001b[0;34m(\u001b[0m\u001b[0mself\u001b[0m\u001b[0;34m)\u001b[0m\u001b[0;34m:\u001b[0m\u001b[0;34m\u001b[0m\u001b[0;34m\u001b[0m\u001b[0m\n\u001b[1;32m     30\u001b[0m       \u001b[0mprint\u001b[0m\u001b[0;34m(\u001b[0m\u001b[0;34m\"Info manager\"\u001b[0m\u001b[0;34m)\u001b[0m\u001b[0;34m\u001b[0m\u001b[0;34m\u001b[0m\u001b[0m\n\u001b[0;32m---> 31\u001b[0;31m       \u001b[0msuper\u001b[0m\u001b[0;34m(\u001b[0m\u001b[0;34m)\u001b[0m\u001b[0;34m.\u001b[0m\u001b[0mtampilkan_info\u001b[0m\u001b[0;34m(\u001b[0m\u001b[0;34m)\u001b[0m\u001b[0;34m\u001b[0m\u001b[0;34m\u001b[0m\u001b[0m\n\u001b[0m\u001b[1;32m     32\u001b[0m       \u001b[0mprint\u001b[0m\u001b[0;34m(\u001b[0m\u001b[0;34mf\"Tunjangan Jabatan: {format_rupiah(self.hitung_gaji())}\"\u001b[0m\u001b[0;34m)\u001b[0m\u001b[0;34m\u001b[0m\u001b[0;34m\u001b[0m\u001b[0m\n\u001b[1;32m     33\u001b[0m \u001b[0;34m\u001b[0m\u001b[0m\n",
            "\u001b[0;32m<ipython-input-27-515471d62874>\u001b[0m in \u001b[0;36mtampilkan_info\u001b[0;34m(self)\u001b[0m\n\u001b[1;32m     18\u001b[0m   \u001b[0;32mdef\u001b[0m \u001b[0mtampilkan_info\u001b[0m\u001b[0;34m(\u001b[0m\u001b[0mself\u001b[0m\u001b[0;34m)\u001b[0m\u001b[0;34m:\u001b[0m\u001b[0;34m\u001b[0m\u001b[0;34m\u001b[0m\u001b[0m\n\u001b[1;32m     19\u001b[0m       \u001b[0mprint\u001b[0m\u001b[0;34m(\u001b[0m\u001b[0;34mf\"ID Pegawai: {self.id_pegawai}, Nama: {self.nama}\"\u001b[0m\u001b[0;34m)\u001b[0m\u001b[0;34m\u001b[0m\u001b[0;34m\u001b[0m\u001b[0m\n\u001b[0;32m---> 20\u001b[0;31m       \u001b[0mprint\u001b[0m\u001b[0;34m(\u001b[0m\u001b[0;34mf\"Gaji Pokok: {format_rupiah(self.gaji_pokok)}\"\u001b[0m\u001b[0;34m)\u001b[0m\u001b[0;34m\u001b[0m\u001b[0;34m\u001b[0m\u001b[0m\n\u001b[0m\u001b[1;32m     21\u001b[0m \u001b[0;34m\u001b[0m\u001b[0m\n\u001b[1;32m     22\u001b[0m \u001b[0;32mclass\u001b[0m \u001b[0mManager\u001b[0m\u001b[0;34m(\u001b[0m\u001b[0mPegawai\u001b[0m\u001b[0;34m)\u001b[0m\u001b[0;34m:\u001b[0m\u001b[0;34m\u001b[0m\u001b[0;34m\u001b[0m\u001b[0m\n",
            "\u001b[0;32m<ipython-input-27-515471d62874>\u001b[0m in \u001b[0;36mformat_rupiah\u001b[0;34m(angka)\u001b[0m\n\u001b[1;32m      7\u001b[0m \u001b[0;34m\u001b[0m\u001b[0m\n\u001b[1;32m      8\u001b[0m \u001b[0;32mdef\u001b[0m \u001b[0mformat_rupiah\u001b[0m\u001b[0;34m(\u001b[0m\u001b[0mangka\u001b[0m\u001b[0;34m)\u001b[0m\u001b[0;34m:\u001b[0m\u001b[0;34m\u001b[0m\u001b[0;34m\u001b[0m\u001b[0m\n\u001b[0;32m----> 9\u001b[0;31m     \u001b[0;32mreturn\u001b[0m \u001b[0mlocale\u001b[0m\u001b[0;34m.\u001b[0m\u001b[0mcurrency\u001b[0m\u001b[0;34m(\u001b[0m\u001b[0mangka\u001b[0m\u001b[0;34m,\u001b[0m \u001b[0mgrouping\u001b[0m\u001b[0;34m=\u001b[0m\u001b[0;32mTrue\u001b[0m\u001b[0;34m,\u001b[0m \u001b[0msymbol\u001b[0m\u001b[0;34m=\u001b[0m\u001b[0;34m'Rp'\u001b[0m\u001b[0;34m)\u001b[0m\u001b[0;34m\u001b[0m\u001b[0;34m\u001b[0m\u001b[0m\n\u001b[0m\u001b[1;32m     10\u001b[0m \u001b[0;34m\u001b[0m\u001b[0m\n\u001b[1;32m     11\u001b[0m \u001b[0;32mclass\u001b[0m \u001b[0mPegawai\u001b[0m\u001b[0;34m:\u001b[0m\u001b[0;34m\u001b[0m\u001b[0;34m\u001b[0m\u001b[0m\n",
            "\u001b[0;32m/usr/lib/python3.11/locale.py\u001b[0m in \u001b[0;36mcurrency\u001b[0;34m(val, symbol, grouping, international)\u001b[0m\n\u001b[1;32m    271\u001b[0m     \u001b[0mdigits\u001b[0m \u001b[0;34m=\u001b[0m \u001b[0mconv\u001b[0m\u001b[0;34m[\u001b[0m\u001b[0minternational\u001b[0m \u001b[0;32mand\u001b[0m \u001b[0;34m'int_frac_digits'\u001b[0m \u001b[0;32mor\u001b[0m \u001b[0;34m'frac_digits'\u001b[0m\u001b[0;34m]\u001b[0m\u001b[0;34m\u001b[0m\u001b[0;34m\u001b[0m\u001b[0m\n\u001b[1;32m    272\u001b[0m     \u001b[0;32mif\u001b[0m \u001b[0mdigits\u001b[0m \u001b[0;34m==\u001b[0m \u001b[0;36m127\u001b[0m\u001b[0;34m:\u001b[0m\u001b[0;34m\u001b[0m\u001b[0;34m\u001b[0m\u001b[0m\n\u001b[0;32m--> 273\u001b[0;31m         raise ValueError(\"Currency formatting is not possible using \"\n\u001b[0m\u001b[1;32m    274\u001b[0m                          \"the 'C' locale.\")\n\u001b[1;32m    275\u001b[0m \u001b[0;34m\u001b[0m\u001b[0m\n",
            "\u001b[0;31mValueError\u001b[0m: Currency formatting is not possible using the 'C' locale."
          ]
        }
      ]
    },
    {
      "cell_type": "code",
      "source": [],
      "metadata": {
        "id": "iYxKMyFu47Lu"
      },
      "execution_count": null,
      "outputs": []
    }
  ]
}